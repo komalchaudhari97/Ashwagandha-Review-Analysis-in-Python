{
 "cells": [
  {
   "cell_type": "code",
   "execution_count": 1,
   "metadata": {},
   "outputs": [
    {
     "name": "stdout",
     "output_type": "stream",
     "text": [
      "Requirement already satisfied: pandas in c:\\users\\komal\\appdata\\local\\packages\\pythonsoftwarefoundation.python.3.11_qbz5n2kfra8p0\\localcache\\local-packages\\python311\\site-packages (2.2.2)\n",
      "Requirement already satisfied: numpy>=1.23.2 in c:\\users\\komal\\appdata\\local\\packages\\pythonsoftwarefoundation.python.3.11_qbz5n2kfra8p0\\localcache\\local-packages\\python311\\site-packages (from pandas) (1.26.4)\n",
      "Requirement already satisfied: python-dateutil>=2.8.2 in c:\\users\\komal\\appdata\\local\\packages\\pythonsoftwarefoundation.python.3.11_qbz5n2kfra8p0\\localcache\\local-packages\\python311\\site-packages (from pandas) (2.9.0.post0)\n",
      "Requirement already satisfied: pytz>=2020.1 in c:\\users\\komal\\appdata\\local\\packages\\pythonsoftwarefoundation.python.3.11_qbz5n2kfra8p0\\localcache\\local-packages\\python311\\site-packages (from pandas) (2024.1)\n",
      "Requirement already satisfied: tzdata>=2022.7 in c:\\users\\komal\\appdata\\local\\packages\\pythonsoftwarefoundation.python.3.11_qbz5n2kfra8p0\\localcache\\local-packages\\python311\\site-packages (from pandas) (2024.1)\n",
      "Requirement already satisfied: six>=1.5 in c:\\users\\komal\\appdata\\local\\packages\\pythonsoftwarefoundation.python.3.11_qbz5n2kfra8p0\\localcache\\local-packages\\python311\\site-packages (from python-dateutil>=2.8.2->pandas) (1.16.0)\n",
      "Note: you may need to restart the kernel to use updated packages.\n"
     ]
    },
    {
     "name": "stderr",
     "output_type": "stream",
     "text": [
      "\n",
      "[notice] A new release of pip is available: 24.0 -> 24.2\n",
      "[notice] To update, run: C:\\Users\\komal\\AppData\\Local\\Microsoft\\WindowsApps\\PythonSoftwareFoundation.Python.3.11_qbz5n2kfra8p0\\python.exe -m pip install --upgrade pip\n"
     ]
    }
   ],
   "source": [
    "%pip install pandas\n",
    "import pandas as pd"
   ]
  },
  {
   "cell_type": "markdown",
   "metadata": {},
   "source": [
    "**analyze whether review is positive, neg or neutral**"
   ]
  },
  {
   "cell_type": "code",
   "execution_count": 2,
   "metadata": {},
   "outputs": [
    {
     "name": "stdout",
     "output_type": "stream",
     "text": [
      "Requirement already satisfied: vaderSentiment in c:\\users\\komal\\appdata\\local\\packages\\pythonsoftwarefoundation.python.3.11_qbz5n2kfra8p0\\localcache\\local-packages\\python311\\site-packages (3.3.2)\n",
      "Requirement already satisfied: requests in c:\\users\\komal\\appdata\\local\\packages\\pythonsoftwarefoundation.python.3.11_qbz5n2kfra8p0\\localcache\\local-packages\\python311\\site-packages (from vaderSentiment) (2.32.3)\n",
      "Requirement already satisfied: charset-normalizer<4,>=2 in c:\\users\\komal\\appdata\\local\\packages\\pythonsoftwarefoundation.python.3.11_qbz5n2kfra8p0\\localcache\\local-packages\\python311\\site-packages (from requests->vaderSentiment) (3.3.2)\n",
      "Requirement already satisfied: idna<4,>=2.5 in c:\\users\\komal\\appdata\\local\\packages\\pythonsoftwarefoundation.python.3.11_qbz5n2kfra8p0\\localcache\\local-packages\\python311\\site-packages (from requests->vaderSentiment) (3.8)\n",
      "Requirement already satisfied: urllib3<3,>=1.21.1 in c:\\users\\komal\\appdata\\local\\packages\\pythonsoftwarefoundation.python.3.11_qbz5n2kfra8p0\\localcache\\local-packages\\python311\\site-packages (from requests->vaderSentiment) (2.2.2)\n",
      "Requirement already satisfied: certifi>=2017.4.17 in c:\\users\\komal\\appdata\\local\\packages\\pythonsoftwarefoundation.python.3.11_qbz5n2kfra8p0\\localcache\\local-packages\\python311\\site-packages (from requests->vaderSentiment) (2024.8.30)\n",
      "Note: you may need to restart the kernel to use updated packages.\n"
     ]
    },
    {
     "name": "stderr",
     "output_type": "stream",
     "text": [
      "\n",
      "[notice] A new release of pip is available: 24.0 -> 24.2\n",
      "[notice] To update, run: C:\\Users\\komal\\AppData\\Local\\Microsoft\\WindowsApps\\PythonSoftwareFoundation.Python.3.11_qbz5n2kfra8p0\\python.exe -m pip install --upgrade pip\n"
     ]
    }
   ],
   "source": [
    "%pip install vaderSentiment"
   ]
  },
  {
   "cell_type": "code",
   "execution_count": 4,
   "metadata": {},
   "outputs": [],
   "source": [
    "from vaderSentiment.vaderSentiment import SentimentIntensityAnalyzer # type: ignore\n",
    "\n",
    "input_file = 'Ashwagandha_Reviews.xlsx'\n",
    "df = pd.read_excel(input_file)\n",
    "analyzer = SentimentIntensityAnalyzer()\n",
    "df['Sentiment'] = df['Cleaned_comment'].apply(\n",
    "    lambda x: 'Highly Positive' if analyzer.polarity_scores(str(x))['compound'] > 0.75 else\n",
    "              'Positive' if analyzer.polarity_scores(str(x))['compound'] > 0.5 else\n",
    "              'Highly Negative' if analyzer.polarity_scores(str(x))['compound'] < -0.75 else\n",
    "              'Negative' if analyzer.polarity_scores(str(x))['compound'] < -0.5 else\n",
    "              'Neutral' if isinstance(x, str) else None\n",
    ")\n",
    "\n",
    "df.to_excel('Ashwagandha_Reviews.xlsx', index=False)"
   ]
  },
  {
   "cell_type": "markdown",
   "metadata": {},
   "source": [
    "Generate a wordcloud"
   ]
  },
  {
   "cell_type": "code",
   "execution_count": null,
   "metadata": {},
   "outputs": [],
   "source": [
    "# %pip install wordcloud\n",
    "# %pip install matplotlib\n",
    "%pip install spacy"
   ]
  },
  {
   "cell_type": "code",
   "execution_count": null,
   "metadata": {},
   "outputs": [],
   "source": [
    "from wordcloud import WordCloud\n",
    "from wordcloud import STOPWORDS\n",
    "import matplotlib.pyplot as plt\n",
    "# import spacy\n",
    "\n",
    "# Load spaCy's English language model\n",
    "# nlp = spacy.load(\"en_core_web_sm\")\n",
    "\n",
    "input_file = 'Combined_Final.xlsx'\n",
    "df = pd.read_excel(input_file)\n",
    "custom_stopwords = {'having','taking','take','product'}\n",
    "all_stopwords = set(STOPWORDS).union(custom_stopwords)\n",
    "text = ' '.join(df['Cleaned_reviews'])\n",
    "wordcloud = WordCloud(\n",
    "    width=1000, \n",
    "    height=500, \n",
    "    max_words=200, \n",
    "    stopwords=all_stopwords, \n",
    "    background_color='black', \n",
    "    colormap='Greens', \n",
    "    contour_color='black', \n",
    "    contour_width=1\n",
    ").generate(text)\n",
    "\n",
    "plt.figure(figsize=(10, 5))\n",
    "plt.imshow(wordcloud, interpolation='bilinear')\n",
    "plt.axis(\"off\")\n",
    "plt.show()\n"
   ]
  },
  {
   "cell_type": "markdown",
   "metadata": {},
   "source": [
    "Sentiment Distribution Visualization:"
   ]
  },
  {
   "cell_type": "code",
   "execution_count": null,
   "metadata": {},
   "outputs": [],
   "source": [
    "%pip install seaborn"
   ]
  },
  {
   "cell_type": "code",
   "execution_count": null,
   "metadata": {},
   "outputs": [],
   "source": [
    "import seaborn as sns # type: ignore\n",
    "import matplotlib.pyplot as plt # type: ignore\n",
    "\n",
    "input_file = 'test.xlsx'\n",
    "df = pd.read_excel(input_file)\n",
    "sns.histplot(df['sentiment'], bins=10, kde=True)\n",
    "plt.title(\"Sentiment Distribution\")\n",
    "plt.show()"
   ]
  },
  {
   "cell_type": "code",
   "execution_count": null,
   "metadata": {},
   "outputs": [],
   "source": [
    "%pip install plotly"
   ]
  },
  {
   "cell_type": "code",
   "execution_count": null,
   "metadata": {},
   "outputs": [],
   "source": [
    "%pip install nbformat --upgrade"
   ]
  },
  {
   "cell_type": "code",
   "execution_count": 4,
   "metadata": {},
   "outputs": [
    {
     "data": {
      "application/vnd.plotly.v1+json": {
       "config": {
        "plotlyServerURL": "https://plot.ly"
       },
       "data": [
        {
         "alignmentgroup": "True",
         "bingroup": "x",
         "hovertemplate": "Sentiment=%{x}<br>count=%{y}<extra></extra>",
         "legendgroup": "",
         "marker": {
          "color": "#636efa",
          "pattern": {
           "shape": ""
          }
         },
         "name": "",
         "offsetgroup": "",
         "orientation": "v",
         "showlegend": false,
         "type": "histogram",
         "x": [
          "Highly Positive",
          "Highly Negative",
          "Positive",
          "Positive",
          "Neutral",
          "Positive",
          "Highly Positive",
          "Highly Negative",
          "Highly Positive",
          "Highly Positive",
          "Neutral",
          "Neutral",
          "Positive",
          "Neutral",
          "Neutral",
          "Highly Positive",
          "Neutral",
          "Highly Negative",
          "Neutral",
          "Neutral",
          "Highly Positive",
          "Neutral",
          "Highly Positive",
          "Highly Positive",
          "Neutral",
          "Positive",
          "Highly Positive",
          "Positive",
          "Highly Positive",
          "Negative",
          "Neutral",
          "Neutral",
          "Highly Negative",
          "Highly Negative",
          "Highly Negative",
          "Highly Negative",
          "Neutral",
          "Neutral",
          "Negative",
          "Highly Negative",
          "Highly Negative",
          "Neutral",
          "Neutral",
          "Highly Negative",
          "Neutral",
          "Highly Positive",
          "Neutral",
          "Highly Negative",
          "Neutral",
          "Highly Negative",
          "Positive",
          "Positive",
          "Highly Positive",
          "Highly Positive",
          "Highly Positive",
          "Neutral",
          "Positive",
          "Neutral",
          "Neutral",
          "Neutral",
          "Highly Positive",
          "Neutral",
          "Positive",
          "Neutral",
          "Highly Negative",
          "Positive",
          "Neutral",
          "Highly Positive",
          "Neutral",
          "Neutral",
          "Neutral",
          "Neutral",
          "Highly Positive",
          "Neutral",
          "Highly Positive",
          "Neutral",
          "Neutral",
          "Neutral",
          "Neutral",
          "Neutral",
          "Neutral",
          "Neutral",
          "Neutral",
          "Neutral",
          "Highly Negative",
          "Neutral",
          "Neutral",
          "Positive",
          "Neutral",
          "Neutral",
          "Highly Negative",
          "Highly Positive",
          "Positive",
          "Positive",
          "Neutral",
          "Neutral",
          "Highly Positive",
          "Highly Negative",
          "Highly Negative",
          "Highly Positive",
          "Highly Positive",
          "Highly Positive",
          "Highly Positive",
          "Negative",
          "Positive",
          "Highly Negative",
          "Neutral",
          "Neutral",
          "Highly Positive",
          "Positive",
          "Positive",
          "Highly Positive",
          "Negative",
          "Highly Positive",
          "Highly Positive",
          "Highly Positive",
          "Positive",
          "Neutral",
          "Highly Positive",
          "Highly Positive",
          "Highly Positive",
          "Neutral",
          "Highly Positive",
          "Positive",
          "Negative",
          "Highly Positive",
          "Neutral",
          "Neutral",
          "Highly Positive",
          "Highly Positive",
          "Neutral",
          "Neutral",
          "Highly Negative",
          "Highly Positive",
          "Neutral",
          "Highly Positive",
          "Positive",
          "Highly Positive",
          "Neutral",
          "Highly Positive",
          "Neutral",
          "Highly Negative",
          "Highly Positive",
          "Neutral",
          "Neutral",
          "Highly Positive",
          "Highly Negative",
          "Neutral",
          "Highly Positive",
          "Neutral",
          "Neutral",
          "Neutral",
          "Positive",
          "Neutral",
          "Highly Positive",
          "Neutral",
          "Neutral",
          "Highly Positive",
          "Neutral",
          "Positive",
          "Highly Positive",
          "Neutral",
          "Highly Positive",
          "Positive",
          "Highly Positive",
          "Neutral",
          "Positive",
          "Highly Positive",
          "Positive",
          "Positive",
          "Highly Positive",
          "Highly Positive",
          "Neutral",
          "Neutral",
          "Neutral",
          "Positive",
          "Highly Positive",
          "Neutral",
          "Highly Positive",
          "Neutral",
          "Positive",
          "Neutral",
          "Positive",
          "Highly Negative",
          "Negative",
          "Neutral",
          "Positive",
          "Negative",
          "Neutral",
          "Negative",
          "Highly Positive",
          "Neutral",
          "Neutral",
          "Highly Positive",
          "Highly Positive",
          "Neutral",
          "Highly Positive",
          "Neutral",
          "Neutral",
          "Highly Positive",
          "Highly Positive",
          "Highly Positive",
          "Highly Positive",
          "Highly Positive",
          "Neutral",
          "Positive",
          "Positive",
          "Neutral",
          "Neutral",
          "Positive",
          "Highly Positive",
          "Positive",
          "Highly Positive",
          "Neutral",
          "Neutral",
          "Negative",
          "Neutral",
          "Highly Positive",
          "Neutral",
          "Neutral",
          "Negative",
          "Neutral",
          "Neutral",
          "Neutral",
          "Highly Negative",
          "Neutral",
          "Negative",
          "Neutral",
          "Neutral",
          "Negative",
          "Negative",
          "Positive",
          "Positive",
          "Neutral",
          "Neutral",
          "Neutral",
          "Neutral",
          "Neutral",
          "Neutral",
          "Highly Positive",
          "Neutral",
          "Neutral",
          "Neutral",
          "Highly Positive",
          "Neutral",
          "Neutral",
          "Neutral",
          "Neutral",
          "Positive",
          "Highly Positive",
          "Highly Positive",
          "Positive",
          "Neutral",
          "Highly Positive",
          "Highly Positive",
          "Highly Positive",
          "Highly Positive",
          "Highly Positive",
          "Highly Positive",
          "Neutral",
          "Positive",
          "Neutral",
          "Neutral",
          "Neutral",
          "Neutral",
          "Highly Positive",
          "Highly Positive",
          "Neutral",
          "Neutral",
          "Negative",
          "Neutral",
          "Highly Positive",
          "Neutral",
          "Neutral",
          "Negative",
          "Highly Positive",
          "Neutral",
          "Neutral",
          "Neutral",
          "Negative",
          "Neutral",
          "Neutral",
          "Neutral",
          "Neutral",
          "Neutral",
          "Negative",
          "Neutral",
          "Negative",
          "Highly Negative",
          "Neutral",
          "Highly Positive",
          "Highly Negative",
          "Neutral",
          "Neutral",
          "Highly Negative",
          "Neutral",
          "Neutral",
          "Neutral",
          "Highly Positive",
          "Highly Positive",
          "Positive",
          "Highly Positive",
          "Highly Positive",
          "Positive",
          "Highly Positive",
          "Highly Positive",
          "Highly Positive",
          "Neutral",
          "Positive",
          "Positive",
          "Neutral",
          "Highly Positive",
          "Highly Negative",
          "Neutral",
          "Neutral",
          "Negative",
          "Neutral",
          "Positive",
          "Neutral",
          "Neutral",
          "Negative",
          "Neutral",
          "Negative",
          "Neutral",
          "Neutral",
          "Neutral",
          "Highly Negative",
          "Neutral",
          "Highly Positive",
          "Negative",
          "Negative",
          "Neutral",
          "Neutral",
          "Neutral",
          "Highly Negative",
          "Negative",
          "Neutral",
          "Neutral",
          "Highly Positive",
          "Neutral",
          "Highly Negative",
          "Neutral",
          "Neutral",
          "Positive",
          "Highly Negative",
          "Highly Negative",
          "Neutral",
          "Negative",
          "Highly Positive",
          "Highly Positive",
          "Highly Positive",
          "Neutral",
          "Positive",
          "Highly Positive",
          "Neutral",
          "Positive",
          "Highly Positive",
          "Highly Positive",
          "Highly Positive",
          "Highly Positive",
          "Positive",
          "Highly Positive",
          "Positive",
          "Highly Positive",
          "Positive",
          "Highly Positive",
          "Positive",
          "Negative",
          "Neutral",
          "Neutral",
          "Positive",
          "Neutral",
          "Positive",
          "Neutral",
          "Neutral",
          "Positive",
          "Neutral",
          "Highly Positive",
          "Highly Positive",
          "Positive",
          "Highly Negative",
          "Highly Negative",
          "Positive",
          "Neutral",
          "Neutral",
          "Positive",
          "Neutral",
          "Neutral",
          "Positive",
          "Highly Positive",
          "Highly Positive",
          "Negative",
          "Neutral",
          "Highly Negative",
          "Highly Negative",
          "Neutral",
          "Neutral",
          "Highly Negative",
          "Highly Positive",
          "Neutral",
          "Highly Positive",
          "Positive",
          "Positive",
          "Highly Positive",
          "Highly Positive",
          "Negative",
          "Positive",
          "Highly Negative",
          "Neutral",
          "Positive",
          "Positive",
          "Neutral",
          "Neutral",
          "Neutral",
          "Highly Positive",
          "Highly Positive",
          "Positive",
          "Neutral",
          "Neutral",
          "Neutral",
          "Highly Positive",
          "Positive",
          "Highly Positive",
          "Negative",
          "Highly Negative",
          "Positive",
          "Neutral",
          "Positive",
          "Neutral",
          "Neutral",
          "Highly Positive",
          "Neutral",
          "Highly Positive",
          "Negative",
          "Neutral",
          "Highly Negative",
          "Positive",
          "Negative",
          "Neutral",
          "Negative",
          "Highly Positive",
          "Highly Negative",
          "Positive",
          "Highly Negative",
          "Neutral",
          "Neutral",
          "Highly Positive",
          "Neutral",
          "Highly Negative",
          "Neutral",
          "Highly Negative",
          "Neutral",
          "Neutral",
          "Negative",
          "Negative",
          "Neutral",
          "Neutral",
          "Positive",
          "Neutral",
          "Highly Positive",
          "Highly Positive",
          "Highly Negative",
          "Highly Positive",
          "Neutral",
          "Neutral",
          "Neutral",
          "Positive",
          "Neutral",
          "Neutral",
          "Highly Positive",
          "Positive",
          "Highly Positive",
          "Highly Positive",
          "Neutral",
          "Neutral",
          "Neutral",
          "Neutral",
          "Highly Positive",
          "Positive",
          "Highly Positive",
          "Neutral",
          "Positive",
          "Highly Negative",
          "Highly Positive",
          "Neutral",
          "Highly Negative",
          "Neutral",
          "Negative",
          "Highly Negative",
          "Neutral",
          "Negative",
          "Neutral",
          "Neutral",
          "Highly Negative",
          "Negative",
          "Negative",
          "Positive",
          "Negative",
          "Highly Negative",
          "Highly Negative",
          "Neutral",
          "Neutral",
          "Negative",
          "Neutral",
          "Neutral",
          "Highly Negative",
          "Highly Negative",
          "Neutral",
          "Highly Positive",
          "Highly Positive",
          "Positive",
          "Highly Positive",
          "Highly Positive",
          "Neutral",
          "Highly Positive",
          "Neutral",
          "Highly Positive",
          "Positive",
          "Highly Positive",
          "Positive",
          "Neutral",
          "Neutral",
          "Neutral",
          "Positive",
          "Negative",
          "Neutral",
          "Neutral",
          "Neutral",
          "Highly Positive",
          "Neutral",
          "Highly Negative",
          "Highly Positive",
          "Highly Positive",
          "Neutral",
          "Highly Positive",
          "Highly Positive",
          "Positive",
          "Neutral",
          "Highly Positive",
          "Negative",
          "Neutral",
          "Neutral",
          "Neutral",
          "Highly Negative",
          "Highly Positive",
          "Highly Negative",
          "Positive",
          "Highly Negative",
          "Highly Negative",
          "Neutral",
          "Neutral",
          "Negative",
          "Negative",
          "Neutral",
          "Positive",
          "Negative",
          "Neutral",
          "Highly Negative",
          "Neutral",
          "Highly Positive",
          "Highly Positive",
          "Positive",
          "Neutral",
          "Positive",
          "Positive",
          "Positive",
          "Neutral",
          "Positive",
          "Neutral",
          "Neutral",
          "Neutral",
          "Neutral",
          "Highly Positive",
          "Positive",
          "Neutral",
          "Highly Negative",
          "Neutral",
          "Neutral",
          "Highly Positive",
          "Highly Positive",
          "Positive",
          "Neutral",
          "Neutral",
          "Positive",
          "Positive",
          "Highly Negative",
          "Positive",
          "Highly Positive",
          "Neutral",
          "Neutral",
          "Neutral",
          "Highly Positive",
          "Neutral",
          "Highly Positive",
          "Neutral",
          "Negative",
          "Positive",
          "Neutral",
          "Neutral",
          "Neutral",
          "Neutral",
          "Neutral",
          "Highly Positive",
          "Negative",
          "Negative",
          "Highly Positive",
          "Positive",
          "Neutral",
          "Highly Positive",
          "Highly Positive",
          "Neutral",
          "Neutral",
          "Positive",
          "Highly Positive",
          "Negative",
          "Neutral",
          "Positive",
          "Highly Positive",
          "Highly Negative",
          "Negative",
          "Highly Positive",
          "Highly Positive",
          "Highly Positive",
          "Highly Positive",
          "Highly Positive",
          "Neutral",
          "Highly Positive",
          "Positive",
          "Neutral",
          "Neutral",
          "Neutral",
          "Highly Positive",
          "Positive",
          "Neutral",
          "Positive",
          "Neutral",
          "Neutral",
          "Neutral",
          "Neutral",
          "Neutral",
          "Positive",
          "Neutral",
          "Neutral",
          "Negative",
          "Neutral",
          "Neutral",
          "Negative",
          "Negative",
          "Neutral",
          "Highly Negative",
          "Neutral",
          "Positive",
          "Neutral",
          "Neutral",
          "Negative",
          "Highly Positive",
          "Neutral",
          "Positive",
          "Positive",
          "Highly Positive",
          "Positive",
          "Positive",
          "Highly Positive",
          "Positive",
          "Neutral",
          "Neutral",
          "Neutral",
          "Neutral",
          "Positive",
          "Neutral",
          "Positive",
          "Neutral",
          "Neutral",
          "Positive",
          "Neutral",
          "Highly Positive",
          "Negative",
          "Neutral",
          "Negative",
          "Neutral",
          "Negative",
          "Negative",
          "Highly Positive",
          "Negative",
          "Negative",
          "Highly Negative",
          "Neutral",
          "Neutral",
          "Neutral",
          "Neutral",
          "Negative",
          "Neutral",
          "Neutral",
          "Negative",
          "Neutral",
          "Positive",
          "Neutral",
          "Neutral",
          "Neutral",
          "Highly Positive",
          "Highly Positive",
          "Highly Positive",
          "Highly Positive",
          "Highly Positive",
          "Highly Positive",
          "Highly Positive",
          "Highly Positive",
          "Highly Positive",
          "Highly Positive",
          "Neutral",
          "Negative",
          "Neutral",
          "Neutral",
          "Highly Positive",
          "Highly Positive",
          "Neutral",
          "Highly Negative",
          "Neutral",
          "Neutral",
          "Highly Negative",
          "Neutral",
          "Negative",
          "Neutral",
          "Highly Positive",
          "Highly Positive",
          "Highly Positive",
          "Highly Positive",
          "Highly Positive",
          "Highly Negative",
          "Positive",
          "Neutral",
          "Neutral",
          "Highly Positive",
          "Highly Positive",
          "Neutral",
          "Negative",
          "Highly Negative",
          "Neutral",
          "Highly Negative",
          "Highly Positive",
          "Highly Negative",
          "Negative",
          "Highly Negative",
          "Highly Negative",
          "Neutral",
          "Highly Negative",
          "Positive",
          "Highly Negative",
          "Highly Positive",
          "Highly Positive",
          "Neutral",
          "Neutral",
          "Highly Positive",
          "Positive",
          "Positive",
          "Neutral",
          "Neutral",
          "Highly Positive",
          "Neutral",
          "Highly Positive",
          "Neutral",
          "Neutral",
          "Highly Positive",
          "Highly Positive",
          "Highly Positive",
          "Neutral",
          "Highly Positive",
          "Highly Positive",
          "Positive",
          "Negative",
          "Neutral",
          "Neutral",
          "Neutral",
          "Neutral",
          "Negative",
          "Neutral",
          "Neutral",
          "Neutral",
          "Highly Positive",
          "Highly Positive",
          "Highly Negative",
          "Neutral",
          "Neutral",
          "Highly Positive",
          "Positive",
          "Positive",
          "Highly Positive",
          "Neutral",
          "Highly Negative",
          "Negative",
          "Highly Positive",
          "Highly Negative",
          "Neutral",
          "Neutral",
          "Neutral",
          "Negative",
          "Highly Negative",
          "Negative",
          "Neutral",
          "Highly Positive",
          "Highly Positive",
          "Highly Positive",
          "Positive",
          "Highly Positive",
          "Neutral",
          "Negative",
          "Positive",
          "Highly Positive",
          "Highly Positive",
          "Highly Positive",
          "Neutral",
          "Highly Positive",
          "Highly Negative",
          "Neutral",
          "Neutral",
          "Positive",
          "Neutral",
          "Highly Negative",
          "Highly Positive",
          "Positive",
          "Positive",
          "Positive",
          "Positive",
          "Neutral",
          "Neutral",
          "Neutral",
          "Neutral",
          "Positive",
          "Highly Negative",
          "Highly Positive",
          "Neutral",
          "Highly Positive",
          "Neutral",
          "Positive",
          "Negative",
          "Neutral",
          "Negative",
          "Highly Negative",
          "Negative",
          "Neutral",
          "Positive",
          "Neutral",
          "Highly Negative",
          "Neutral",
          "Neutral",
          "Negative",
          "Highly Positive",
          "Highly Positive",
          "Highly Positive",
          "Neutral",
          "Highly Positive",
          "Neutral",
          "Positive",
          "Highly Positive",
          "Neutral",
          "Neutral",
          "Highly Positive",
          "Neutral",
          "Positive",
          "Highly Positive",
          "Positive",
          "Neutral",
          "Highly Positive",
          "Positive",
          "Neutral",
          "Neutral",
          "Positive",
          "Positive",
          "Positive",
          "Highly Positive",
          "Highly Negative",
          "Highly Negative",
          "Negative",
          "Highly Positive",
          "Neutral",
          "Negative",
          "Neutral",
          "Neutral",
          "Neutral",
          "Neutral",
          "Neutral",
          "Highly Positive",
          "Highly Positive",
          "Highly Positive",
          "Highly Positive",
          "Negative",
          "Highly Positive",
          "Neutral",
          "Highly Positive",
          "Highly Positive",
          "Highly Positive",
          "Highly Positive",
          "Neutral",
          "Neutral",
          "Positive",
          "Highly Negative",
          "Highly Positive",
          "Highly Positive",
          "Highly Positive",
          "Highly Positive",
          "Highly Positive",
          "Highly Negative",
          "Neutral",
          "Highly Negative",
          "Positive",
          "Highly Positive",
          "Highly Positive",
          "Highly Positive",
          "Neutral",
          "Highly Positive",
          "Positive",
          "Highly Positive",
          "Negative",
          "Highly Positive",
          "Highly Positive",
          "Negative",
          "Highly Negative",
          "Neutral",
          "Neutral",
          "Negative",
          "Neutral",
          "Highly Positive",
          "Highly Negative",
          "Highly Negative",
          "Highly Negative",
          "Highly Negative",
          "Highly Negative",
          "Highly Positive",
          "Highly Negative",
          "Highly Negative",
          "Highly Negative",
          "Highly Positive",
          "Positive",
          "Positive",
          "Highly Positive",
          "Neutral",
          "Neutral",
          "Highly Positive",
          "Positive",
          "Positive",
          "Neutral",
          "Highly Positive",
          "Neutral",
          "Neutral",
          "Neutral",
          "Positive",
          "Neutral",
          "Neutral",
          "Highly Positive",
          "Highly Positive",
          "Positive",
          "Neutral",
          "Highly Positive",
          "Neutral",
          "Highly Positive",
          "Positive",
          "Highly Positive",
          "Neutral",
          "Neutral",
          "Neutral",
          "Highly Positive",
          "Negative",
          "Highly Negative",
          "Negative",
          "Neutral",
          "Highly Positive",
          "Highly Negative",
          "Highly Negative",
          "Negative",
          "Neutral",
          "Negative",
          "Positive",
          "Highly Negative",
          "Neutral",
          "Neutral",
          "Neutral",
          "Positive",
          "Neutral",
          "Positive",
          "Neutral",
          "Neutral",
          "Neutral",
          "Neutral",
          "Positive",
          "Highly Positive",
          "Positive",
          "Positive",
          "Neutral",
          "Neutral",
          "Neutral",
          "Negative",
          "Positive",
          "Neutral",
          "Positive",
          "Neutral",
          "Highly Positive",
          "Neutral",
          "Neutral",
          "Neutral",
          "Negative",
          "Neutral",
          "Neutral",
          "Neutral",
          "Highly Negative",
          "Neutral",
          "Neutral",
          "Neutral",
          "Highly Positive",
          "Highly Positive",
          "Highly Positive",
          "Highly Positive",
          "Highly Positive",
          "Highly Positive",
          "Highly Positive",
          "Highly Positive",
          "Highly Positive",
          "Highly Positive",
          "Highly Positive",
          "Highly Positive",
          "Highly Positive",
          "Positive",
          "Highly Positive",
          "Highly Positive",
          "Highly Positive",
          "Highly Positive",
          "Highly Positive",
          "Positive",
          "Neutral",
          "Neutral",
          "Highly Positive",
          "Highly Positive",
          "Neutral",
          "Highly Positive",
          "Highly Positive",
          "Highly Positive",
          "Highly Positive",
          "Highly Positive",
          "Highly Positive",
          "Highly Positive",
          "Highly Positive",
          "Highly Positive",
          "Highly Positive",
          "Highly Positive",
          "Highly Positive",
          "Highly Positive",
          "Positive",
          "Neutral",
          "Neutral",
          "Highly Positive",
          "Highly Positive",
          "Highly Positive",
          "Highly Positive",
          "Neutral",
          "Highly Positive",
          "Highly Positive",
          "Highly Positive",
          "Highly Positive",
          "Highly Positive",
          "Highly Positive",
          "Highly Positive",
          "Highly Negative",
          "Highly Positive",
          "Positive",
          "Neutral",
          "Highly Positive",
          "Highly Positive",
          "Highly Positive",
          "Highly Positive",
          "Neutral",
          "Highly Positive",
          "Neutral",
          "Highly Positive",
          "Neutral",
          "Highly Positive",
          "Highly Positive",
          "Highly Positive",
          "Highly Positive",
          "Positive",
          "Negative",
          "Highly Positive",
          "Positive",
          "Positive",
          "Highly Positive",
          "Positive",
          "Highly Positive",
          "Highly Positive",
          "Highly Positive",
          "Highly Positive",
          "Highly Positive",
          "Highly Positive",
          "Neutral",
          "Highly Positive",
          "Positive",
          "Positive",
          "Highly Positive",
          "Highly Positive",
          "Highly Positive",
          "Neutral",
          "Negative",
          "Neutral",
          "Highly Positive",
          "Neutral",
          "Neutral",
          "Highly Positive",
          "Highly Positive",
          "Highly Positive"
         ],
         "xaxis": "x",
         "yaxis": "y"
        }
       ],
       "layout": {
        "barmode": "relative",
        "legend": {
         "tracegroupgap": 0
        },
        "template": {
         "data": {
          "bar": [
           {
            "error_x": {
             "color": "#2a3f5f"
            },
            "error_y": {
             "color": "#2a3f5f"
            },
            "marker": {
             "line": {
              "color": "#E5ECF6",
              "width": 0.5
             },
             "pattern": {
              "fillmode": "overlay",
              "size": 10,
              "solidity": 0.2
             }
            },
            "type": "bar"
           }
          ],
          "barpolar": [
           {
            "marker": {
             "line": {
              "color": "#E5ECF6",
              "width": 0.5
             },
             "pattern": {
              "fillmode": "overlay",
              "size": 10,
              "solidity": 0.2
             }
            },
            "type": "barpolar"
           }
          ],
          "carpet": [
           {
            "aaxis": {
             "endlinecolor": "#2a3f5f",
             "gridcolor": "white",
             "linecolor": "white",
             "minorgridcolor": "white",
             "startlinecolor": "#2a3f5f"
            },
            "baxis": {
             "endlinecolor": "#2a3f5f",
             "gridcolor": "white",
             "linecolor": "white",
             "minorgridcolor": "white",
             "startlinecolor": "#2a3f5f"
            },
            "type": "carpet"
           }
          ],
          "choropleth": [
           {
            "colorbar": {
             "outlinewidth": 0,
             "ticks": ""
            },
            "type": "choropleth"
           }
          ],
          "contour": [
           {
            "colorbar": {
             "outlinewidth": 0,
             "ticks": ""
            },
            "colorscale": [
             [
              0,
              "#0d0887"
             ],
             [
              0.1111111111111111,
              "#46039f"
             ],
             [
              0.2222222222222222,
              "#7201a8"
             ],
             [
              0.3333333333333333,
              "#9c179e"
             ],
             [
              0.4444444444444444,
              "#bd3786"
             ],
             [
              0.5555555555555556,
              "#d8576b"
             ],
             [
              0.6666666666666666,
              "#ed7953"
             ],
             [
              0.7777777777777778,
              "#fb9f3a"
             ],
             [
              0.8888888888888888,
              "#fdca26"
             ],
             [
              1,
              "#f0f921"
             ]
            ],
            "type": "contour"
           }
          ],
          "contourcarpet": [
           {
            "colorbar": {
             "outlinewidth": 0,
             "ticks": ""
            },
            "type": "contourcarpet"
           }
          ],
          "heatmap": [
           {
            "colorbar": {
             "outlinewidth": 0,
             "ticks": ""
            },
            "colorscale": [
             [
              0,
              "#0d0887"
             ],
             [
              0.1111111111111111,
              "#46039f"
             ],
             [
              0.2222222222222222,
              "#7201a8"
             ],
             [
              0.3333333333333333,
              "#9c179e"
             ],
             [
              0.4444444444444444,
              "#bd3786"
             ],
             [
              0.5555555555555556,
              "#d8576b"
             ],
             [
              0.6666666666666666,
              "#ed7953"
             ],
             [
              0.7777777777777778,
              "#fb9f3a"
             ],
             [
              0.8888888888888888,
              "#fdca26"
             ],
             [
              1,
              "#f0f921"
             ]
            ],
            "type": "heatmap"
           }
          ],
          "heatmapgl": [
           {
            "colorbar": {
             "outlinewidth": 0,
             "ticks": ""
            },
            "colorscale": [
             [
              0,
              "#0d0887"
             ],
             [
              0.1111111111111111,
              "#46039f"
             ],
             [
              0.2222222222222222,
              "#7201a8"
             ],
             [
              0.3333333333333333,
              "#9c179e"
             ],
             [
              0.4444444444444444,
              "#bd3786"
             ],
             [
              0.5555555555555556,
              "#d8576b"
             ],
             [
              0.6666666666666666,
              "#ed7953"
             ],
             [
              0.7777777777777778,
              "#fb9f3a"
             ],
             [
              0.8888888888888888,
              "#fdca26"
             ],
             [
              1,
              "#f0f921"
             ]
            ],
            "type": "heatmapgl"
           }
          ],
          "histogram": [
           {
            "marker": {
             "pattern": {
              "fillmode": "overlay",
              "size": 10,
              "solidity": 0.2
             }
            },
            "type": "histogram"
           }
          ],
          "histogram2d": [
           {
            "colorbar": {
             "outlinewidth": 0,
             "ticks": ""
            },
            "colorscale": [
             [
              0,
              "#0d0887"
             ],
             [
              0.1111111111111111,
              "#46039f"
             ],
             [
              0.2222222222222222,
              "#7201a8"
             ],
             [
              0.3333333333333333,
              "#9c179e"
             ],
             [
              0.4444444444444444,
              "#bd3786"
             ],
             [
              0.5555555555555556,
              "#d8576b"
             ],
             [
              0.6666666666666666,
              "#ed7953"
             ],
             [
              0.7777777777777778,
              "#fb9f3a"
             ],
             [
              0.8888888888888888,
              "#fdca26"
             ],
             [
              1,
              "#f0f921"
             ]
            ],
            "type": "histogram2d"
           }
          ],
          "histogram2dcontour": [
           {
            "colorbar": {
             "outlinewidth": 0,
             "ticks": ""
            },
            "colorscale": [
             [
              0,
              "#0d0887"
             ],
             [
              0.1111111111111111,
              "#46039f"
             ],
             [
              0.2222222222222222,
              "#7201a8"
             ],
             [
              0.3333333333333333,
              "#9c179e"
             ],
             [
              0.4444444444444444,
              "#bd3786"
             ],
             [
              0.5555555555555556,
              "#d8576b"
             ],
             [
              0.6666666666666666,
              "#ed7953"
             ],
             [
              0.7777777777777778,
              "#fb9f3a"
             ],
             [
              0.8888888888888888,
              "#fdca26"
             ],
             [
              1,
              "#f0f921"
             ]
            ],
            "type": "histogram2dcontour"
           }
          ],
          "mesh3d": [
           {
            "colorbar": {
             "outlinewidth": 0,
             "ticks": ""
            },
            "type": "mesh3d"
           }
          ],
          "parcoords": [
           {
            "line": {
             "colorbar": {
              "outlinewidth": 0,
              "ticks": ""
             }
            },
            "type": "parcoords"
           }
          ],
          "pie": [
           {
            "automargin": true,
            "type": "pie"
           }
          ],
          "scatter": [
           {
            "fillpattern": {
             "fillmode": "overlay",
             "size": 10,
             "solidity": 0.2
            },
            "type": "scatter"
           }
          ],
          "scatter3d": [
           {
            "line": {
             "colorbar": {
              "outlinewidth": 0,
              "ticks": ""
             }
            },
            "marker": {
             "colorbar": {
              "outlinewidth": 0,
              "ticks": ""
             }
            },
            "type": "scatter3d"
           }
          ],
          "scattercarpet": [
           {
            "marker": {
             "colorbar": {
              "outlinewidth": 0,
              "ticks": ""
             }
            },
            "type": "scattercarpet"
           }
          ],
          "scattergeo": [
           {
            "marker": {
             "colorbar": {
              "outlinewidth": 0,
              "ticks": ""
             }
            },
            "type": "scattergeo"
           }
          ],
          "scattergl": [
           {
            "marker": {
             "colorbar": {
              "outlinewidth": 0,
              "ticks": ""
             }
            },
            "type": "scattergl"
           }
          ],
          "scattermapbox": [
           {
            "marker": {
             "colorbar": {
              "outlinewidth": 0,
              "ticks": ""
             }
            },
            "type": "scattermapbox"
           }
          ],
          "scatterpolar": [
           {
            "marker": {
             "colorbar": {
              "outlinewidth": 0,
              "ticks": ""
             }
            },
            "type": "scatterpolar"
           }
          ],
          "scatterpolargl": [
           {
            "marker": {
             "colorbar": {
              "outlinewidth": 0,
              "ticks": ""
             }
            },
            "type": "scatterpolargl"
           }
          ],
          "scatterternary": [
           {
            "marker": {
             "colorbar": {
              "outlinewidth": 0,
              "ticks": ""
             }
            },
            "type": "scatterternary"
           }
          ],
          "surface": [
           {
            "colorbar": {
             "outlinewidth": 0,
             "ticks": ""
            },
            "colorscale": [
             [
              0,
              "#0d0887"
             ],
             [
              0.1111111111111111,
              "#46039f"
             ],
             [
              0.2222222222222222,
              "#7201a8"
             ],
             [
              0.3333333333333333,
              "#9c179e"
             ],
             [
              0.4444444444444444,
              "#bd3786"
             ],
             [
              0.5555555555555556,
              "#d8576b"
             ],
             [
              0.6666666666666666,
              "#ed7953"
             ],
             [
              0.7777777777777778,
              "#fb9f3a"
             ],
             [
              0.8888888888888888,
              "#fdca26"
             ],
             [
              1,
              "#f0f921"
             ]
            ],
            "type": "surface"
           }
          ],
          "table": [
           {
            "cells": {
             "fill": {
              "color": "#EBF0F8"
             },
             "line": {
              "color": "white"
             }
            },
            "header": {
             "fill": {
              "color": "#C8D4E3"
             },
             "line": {
              "color": "white"
             }
            },
            "type": "table"
           }
          ]
         },
         "layout": {
          "annotationdefaults": {
           "arrowcolor": "#2a3f5f",
           "arrowhead": 0,
           "arrowwidth": 1
          },
          "autotypenumbers": "strict",
          "coloraxis": {
           "colorbar": {
            "outlinewidth": 0,
            "ticks": ""
           }
          },
          "colorscale": {
           "diverging": [
            [
             0,
             "#8e0152"
            ],
            [
             0.1,
             "#c51b7d"
            ],
            [
             0.2,
             "#de77ae"
            ],
            [
             0.3,
             "#f1b6da"
            ],
            [
             0.4,
             "#fde0ef"
            ],
            [
             0.5,
             "#f7f7f7"
            ],
            [
             0.6,
             "#e6f5d0"
            ],
            [
             0.7,
             "#b8e186"
            ],
            [
             0.8,
             "#7fbc41"
            ],
            [
             0.9,
             "#4d9221"
            ],
            [
             1,
             "#276419"
            ]
           ],
           "sequential": [
            [
             0,
             "#0d0887"
            ],
            [
             0.1111111111111111,
             "#46039f"
            ],
            [
             0.2222222222222222,
             "#7201a8"
            ],
            [
             0.3333333333333333,
             "#9c179e"
            ],
            [
             0.4444444444444444,
             "#bd3786"
            ],
            [
             0.5555555555555556,
             "#d8576b"
            ],
            [
             0.6666666666666666,
             "#ed7953"
            ],
            [
             0.7777777777777778,
             "#fb9f3a"
            ],
            [
             0.8888888888888888,
             "#fdca26"
            ],
            [
             1,
             "#f0f921"
            ]
           ],
           "sequentialminus": [
            [
             0,
             "#0d0887"
            ],
            [
             0.1111111111111111,
             "#46039f"
            ],
            [
             0.2222222222222222,
             "#7201a8"
            ],
            [
             0.3333333333333333,
             "#9c179e"
            ],
            [
             0.4444444444444444,
             "#bd3786"
            ],
            [
             0.5555555555555556,
             "#d8576b"
            ],
            [
             0.6666666666666666,
             "#ed7953"
            ],
            [
             0.7777777777777778,
             "#fb9f3a"
            ],
            [
             0.8888888888888888,
             "#fdca26"
            ],
            [
             1,
             "#f0f921"
            ]
           ]
          },
          "colorway": [
           "#636efa",
           "#EF553B",
           "#00cc96",
           "#ab63fa",
           "#FFA15A",
           "#19d3f3",
           "#FF6692",
           "#B6E880",
           "#FF97FF",
           "#FECB52"
          ],
          "font": {
           "color": "#2a3f5f"
          },
          "geo": {
           "bgcolor": "white",
           "lakecolor": "white",
           "landcolor": "#E5ECF6",
           "showlakes": true,
           "showland": true,
           "subunitcolor": "white"
          },
          "hoverlabel": {
           "align": "left"
          },
          "hovermode": "closest",
          "mapbox": {
           "style": "light"
          },
          "paper_bgcolor": "white",
          "plot_bgcolor": "#E5ECF6",
          "polar": {
           "angularaxis": {
            "gridcolor": "white",
            "linecolor": "white",
            "ticks": ""
           },
           "bgcolor": "#E5ECF6",
           "radialaxis": {
            "gridcolor": "white",
            "linecolor": "white",
            "ticks": ""
           }
          },
          "scene": {
           "xaxis": {
            "backgroundcolor": "#E5ECF6",
            "gridcolor": "white",
            "gridwidth": 2,
            "linecolor": "white",
            "showbackground": true,
            "ticks": "",
            "zerolinecolor": "white"
           },
           "yaxis": {
            "backgroundcolor": "#E5ECF6",
            "gridcolor": "white",
            "gridwidth": 2,
            "linecolor": "white",
            "showbackground": true,
            "ticks": "",
            "zerolinecolor": "white"
           },
           "zaxis": {
            "backgroundcolor": "#E5ECF6",
            "gridcolor": "white",
            "gridwidth": 2,
            "linecolor": "white",
            "showbackground": true,
            "ticks": "",
            "zerolinecolor": "white"
           }
          },
          "shapedefaults": {
           "line": {
            "color": "#2a3f5f"
           }
          },
          "ternary": {
           "aaxis": {
            "gridcolor": "white",
            "linecolor": "white",
            "ticks": ""
           },
           "baxis": {
            "gridcolor": "white",
            "linecolor": "white",
            "ticks": ""
           },
           "bgcolor": "#E5ECF6",
           "caxis": {
            "gridcolor": "white",
            "linecolor": "white",
            "ticks": ""
           }
          },
          "title": {
           "x": 0.05
          },
          "xaxis": {
           "automargin": true,
           "gridcolor": "white",
           "linecolor": "white",
           "ticks": "",
           "title": {
            "standoff": 15
           },
           "zerolinecolor": "white",
           "zerolinewidth": 2
          },
          "yaxis": {
           "automargin": true,
           "gridcolor": "white",
           "linecolor": "white",
           "ticks": "",
           "title": {
            "standoff": 15
           },
           "zerolinecolor": "white",
           "zerolinewidth": 2
          }
         }
        },
        "title": {
         "text": "Sentiment Analysis"
        },
        "xaxis": {
         "anchor": "y",
         "domain": [
          0,
          1
         ],
         "title": {
          "text": "Sentiment"
         }
        },
        "yaxis": {
         "anchor": "x",
         "domain": [
          0,
          1
         ],
         "title": {
          "text": "count"
         }
        }
       }
      }
     },
     "metadata": {},
     "output_type": "display_data"
    }
   ],
   "source": [
    "import plotly.express as px\n",
    "\n",
    "input_file = 'Combined_Final.xlsx'\n",
    "df = pd.read_excel(input_file)\n",
    "fig = px.histogram(df, x= df['Sentiment'], title=\"Sentiment Analysis\")\n",
    "fig.show()\n"
   ]
  },
  {
   "cell_type": "code",
   "execution_count": null,
   "metadata": {},
   "outputs": [],
   "source": [
    "import pandas as pd\n",
    "from collections import Counter\n",
    "\n",
    "# Load the Excel file\n",
    "file_path = 'Combined_Final.xlsx'  # Update with your file path\n",
    "df = pd.read_excel(file_path)\n",
    "\n",
    "# Filter rows where sentiment is 'Positive'\n",
    "positive_reviews = df[df['sentiment'] == 'Positive']['cleaned_reviews']\n",
    "\n",
    "# Tokenize the reviews into words\n",
    "all_words = []\n",
    "for review in positive_reviews:\n",
    "    words = review.split()  # Split review text into words\n",
    "    all_words.extend(words)  # Add words to the list\n",
    "\n",
    "# Count the frequency of each word\n",
    "word_counts = Counter(all_words)\n",
    "\n",
    "# Find the most common words\n",
    "most_common_words = word_counts.most_common()  # Returns list of (word, count)\n",
    "\n",
    "# Create a list of the words sorted by their frequency\n",
    "most_frequent_words = [word for word, count in most_common_words]\n",
    "\n",
    "# Display the most frequent words\n",
    "print(\"Most frequent words in positive reviews:\")\n",
    "print(most_frequent_words)\n"
   ]
  },
  {
   "cell_type": "code",
   "execution_count": null,
   "metadata": {},
   "outputs": [],
   "source": [
    "from wordcloud import WordCloud\n",
    "from wordcloud import STOPWORDS\n",
    "import matplotlib.pyplot as plt\n",
    "\n",
    "# input_file = 'Combined_Final.xlsx'\n",
    "# df = pd.read_excel(input_file)\n",
    "# custom_stopwords = {'having','taking','take'}\n",
    "# all_stopwords = set(STOPWORDS).union(custom_stopwords)\n",
    "text = ' '.join(most_frequent_words)\n",
    "wordcloud = WordCloud(\n",
    "    width=1000, \n",
    "    height=500, \n",
    "    max_words=200, \n",
    "    stopwords=STOPWORDS, \n",
    "    background_color='black', \n",
    "    colormap='Greens', \n",
    "    contour_color='black', \n",
    "    contour_width=1\n",
    ").generate(text)\n",
    "\n",
    "plt.figure(figsize=(10, 5))\n",
    "plt.imshow(wordcloud, interpolation='bilinear')\n",
    "plt.axis(\"off\")\n",
    "plt.show()\n"
   ]
  },
  {
   "cell_type": "code",
   "execution_count": null,
   "metadata": {},
   "outputs": [],
   "source": [
    "import spacy\n",
    "\n",
    "# Load the spaCy model for English\n",
    "nlp = spacy.load('en_core_web_sm')  # Ensure the spaCy model is installed\n",
    "\n",
    "# Load the Excel file\n",
    "file_path = 'test.xlsx'  # Update with your file path\n",
    "df = pd.read_excel(file_path)\n",
    "\n",
    "# Filter rows where sentiment is 'Positive'\n",
    "positive_reviews = df[df['sentiment'] == 'Positive']['cleaned_reviews']\n",
    "\n",
    "# Function to extract adjectives from a review\n",
    "def extract_adjectives(review):\n",
    "    doc = nlp(review)  # Process the review text using spaCy\n",
    "    adjectives = [token.text for token in doc if token.pos_ == 'ADJ']  # Extract adjectives\n",
    "    return adjectives\n",
    "\n",
    "# Tokenize the reviews and only keep adjectives\n",
    "all_adjectives = []\n",
    "for review in positive_reviews:\n",
    "    adjectives = extract_adjectives(review)\n",
    "    all_adjectives.extend(adjectives)  # Add adjectives to the list\n",
    "\n",
    "# Count the frequency of each adjective\n",
    "adjective_counts = Counter(all_adjectives)\n",
    "\n",
    "# Find the most common adjectives\n",
    "most_common_adjectives = adjective_counts.most_common()  # Returns list of (adjective, count)\n",
    "\n",
    "# Create a list of adjectives sorted by their frequency\n",
    "most_frequent_adjectives = [word for word, count in most_common_adjectives]\n",
    "\n",
    "# Display the most frequent adjectives\n",
    "print(\"Most frequent adjectives in positive reviews:\")\n",
    "print(most_frequent_adjectives)\n"
   ]
  }
 ],
 "metadata": {
  "kernelspec": {
   "display_name": "Python 3",
   "language": "python",
   "name": "python3"
  },
  "language_info": {
   "codemirror_mode": {
    "name": "ipython",
    "version": 3
   },
   "file_extension": ".py",
   "mimetype": "text/x-python",
   "name": "python",
   "nbconvert_exporter": "python",
   "pygments_lexer": "ipython3",
   "version": "3.11.9"
  }
 },
 "nbformat": 4,
 "nbformat_minor": 2
}
