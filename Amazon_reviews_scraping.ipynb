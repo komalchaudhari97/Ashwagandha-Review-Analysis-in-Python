{
 "cells": [
  {
   "cell_type": "code",
   "execution_count": 1,
   "metadata": {},
   "outputs": [
    {
     "name": "stdout",
     "output_type": "stream",
     "text": [
      "Requirement already satisfied: selenium in c:\\users\\komal\\appdata\\local\\packages\\pythonsoftwarefoundation.python.3.11_qbz5n2kfra8p0\\localcache\\local-packages\\python311\\site-packages (4.24.0)\n",
      "Requirement already satisfied: urllib3<3,>=1.26 in c:\\users\\komal\\appdata\\local\\packages\\pythonsoftwarefoundation.python.3.11_qbz5n2kfra8p0\\localcache\\local-packages\\python311\\site-packages (from urllib3[socks]<3,>=1.26->selenium) (2.2.2)\n",
      "Requirement already satisfied: trio~=0.17 in c:\\users\\komal\\appdata\\local\\packages\\pythonsoftwarefoundation.python.3.11_qbz5n2kfra8p0\\localcache\\local-packages\\python311\\site-packages (from selenium) (0.26.2)\n",
      "Requirement already satisfied: trio-websocket~=0.9 in c:\\users\\komal\\appdata\\local\\packages\\pythonsoftwarefoundation.python.3.11_qbz5n2kfra8p0\\localcache\\local-packages\\python311\\site-packages (from selenium) (0.11.1)\n",
      "Requirement already satisfied: certifi>=2021.10.8 in c:\\users\\komal\\appdata\\local\\packages\\pythonsoftwarefoundation.python.3.11_qbz5n2kfra8p0\\localcache\\local-packages\\python311\\site-packages (from selenium) (2024.8.30)\n",
      "Requirement already satisfied: typing_extensions~=4.9 in c:\\users\\komal\\appdata\\local\\packages\\pythonsoftwarefoundation.python.3.11_qbz5n2kfra8p0\\localcache\\local-packages\\python311\\site-packages (from selenium) (4.12.2)\n",
      "Requirement already satisfied: websocket-client~=1.8 in c:\\users\\komal\\appdata\\local\\packages\\pythonsoftwarefoundation.python.3.11_qbz5n2kfra8p0\\localcache\\local-packages\\python311\\site-packages (from selenium) (1.8.0)\n",
      "Requirement already satisfied: attrs>=23.2.0 in c:\\users\\komal\\appdata\\local\\packages\\pythonsoftwarefoundation.python.3.11_qbz5n2kfra8p0\\localcache\\local-packages\\python311\\site-packages (from trio~=0.17->selenium) (24.2.0)\n",
      "Requirement already satisfied: sortedcontainers in c:\\users\\komal\\appdata\\local\\packages\\pythonsoftwarefoundation.python.3.11_qbz5n2kfra8p0\\localcache\\local-packages\\python311\\site-packages (from trio~=0.17->selenium) (2.4.0)\n",
      "Requirement already satisfied: idna in c:\\users\\komal\\appdata\\local\\packages\\pythonsoftwarefoundation.python.3.11_qbz5n2kfra8p0\\localcache\\local-packages\\python311\\site-packages (from trio~=0.17->selenium) (3.8)\n",
      "Requirement already satisfied: outcome in c:\\users\\komal\\appdata\\local\\packages\\pythonsoftwarefoundation.python.3.11_qbz5n2kfra8p0\\localcache\\local-packages\\python311\\site-packages (from trio~=0.17->selenium) (1.3.0.post0)\n",
      "Requirement already satisfied: sniffio>=1.3.0 in c:\\users\\komal\\appdata\\local\\packages\\pythonsoftwarefoundation.python.3.11_qbz5n2kfra8p0\\localcache\\local-packages\\python311\\site-packages (from trio~=0.17->selenium) (1.3.1)\n",
      "Requirement already satisfied: cffi>=1.14 in c:\\users\\komal\\appdata\\local\\packages\\pythonsoftwarefoundation.python.3.11_qbz5n2kfra8p0\\localcache\\local-packages\\python311\\site-packages (from trio~=0.17->selenium) (1.17.1)\n",
      "Requirement already satisfied: wsproto>=0.14 in c:\\users\\komal\\appdata\\local\\packages\\pythonsoftwarefoundation.python.3.11_qbz5n2kfra8p0\\localcache\\local-packages\\python311\\site-packages (from trio-websocket~=0.9->selenium) (1.2.0)\n",
      "Requirement already satisfied: pysocks!=1.5.7,<2.0,>=1.5.6 in c:\\users\\komal\\appdata\\local\\packages\\pythonsoftwarefoundation.python.3.11_qbz5n2kfra8p0\\localcache\\local-packages\\python311\\site-packages (from urllib3[socks]<3,>=1.26->selenium) (1.7.1)\n",
      "Requirement already satisfied: pycparser in c:\\users\\komal\\appdata\\local\\packages\\pythonsoftwarefoundation.python.3.11_qbz5n2kfra8p0\\localcache\\local-packages\\python311\\site-packages (from cffi>=1.14->trio~=0.17->selenium) (2.22)\n",
      "Requirement already satisfied: h11<1,>=0.9.0 in c:\\users\\komal\\appdata\\local\\packages\\pythonsoftwarefoundation.python.3.11_qbz5n2kfra8p0\\localcache\\local-packages\\python311\\site-packages (from wsproto>=0.14->trio-websocket~=0.9->selenium) (0.14.0)\n",
      "Note: you may need to restart the kernel to use updated packages.\n"
     ]
    },
    {
     "name": "stderr",
     "output_type": "stream",
     "text": [
      "\n",
      "[notice] A new release of pip is available: 24.0 -> 24.2\n",
      "[notice] To update, run: C:\\Users\\komal\\AppData\\Local\\Microsoft\\WindowsApps\\PythonSoftwareFoundation.Python.3.11_qbz5n2kfra8p0\\python.exe -m pip install --upgrade pip\n"
     ]
    },
    {
     "name": "stdout",
     "output_type": "stream",
     "text": [
      "Requirement already satisfied: pandas in c:\\users\\komal\\appdata\\local\\packages\\pythonsoftwarefoundation.python.3.11_qbz5n2kfra8p0\\localcache\\local-packages\\python311\\site-packages (2.2.2)\n",
      "Requirement already satisfied: numpy>=1.23.2 in c:\\users\\komal\\appdata\\local\\packages\\pythonsoftwarefoundation.python.3.11_qbz5n2kfra8p0\\localcache\\local-packages\\python311\\site-packages (from pandas) (2.1.1)\n",
      "Requirement already satisfied: python-dateutil>=2.8.2 in c:\\users\\komal\\appdata\\local\\packages\\pythonsoftwarefoundation.python.3.11_qbz5n2kfra8p0\\localcache\\local-packages\\python311\\site-packages (from pandas) (2.9.0.post0)\n",
      "Requirement already satisfied: pytz>=2020.1 in c:\\users\\komal\\appdata\\local\\packages\\pythonsoftwarefoundation.python.3.11_qbz5n2kfra8p0\\localcache\\local-packages\\python311\\site-packages (from pandas) (2024.1)\n",
      "Requirement already satisfied: tzdata>=2022.7 in c:\\users\\komal\\appdata\\local\\packages\\pythonsoftwarefoundation.python.3.11_qbz5n2kfra8p0\\localcache\\local-packages\\python311\\site-packages (from pandas) (2024.1)\n",
      "Requirement already satisfied: six>=1.5 in c:\\users\\komal\\appdata\\local\\packages\\pythonsoftwarefoundation.python.3.11_qbz5n2kfra8p0\\localcache\\local-packages\\python311\\site-packages (from python-dateutil>=2.8.2->pandas) (1.16.0)\n",
      "Note: you may need to restart the kernel to use updated packages.\n"
     ]
    },
    {
     "name": "stderr",
     "output_type": "stream",
     "text": [
      "\n",
      "[notice] A new release of pip is available: 24.0 -> 24.2\n",
      "[notice] To update, run: C:\\Users\\komal\\AppData\\Local\\Microsoft\\WindowsApps\\PythonSoftwareFoundation.Python.3.11_qbz5n2kfra8p0\\python.exe -m pip install --upgrade pip\n"
     ]
    }
   ],
   "source": [
    "%pip install selenium\n",
    "%pip install pandas"
   ]
  },
  {
   "cell_type": "code",
   "execution_count": 2,
   "metadata": {},
   "outputs": [],
   "source": [
    "from selenium import webdriver # type: ignore\n",
    "from selenium.webdriver.common.by import By # type: ignore\n",
    "from selenium.webdriver.chrome.service import Service # type: ignore\n",
    "from selenium.webdriver.chrome.options import Options # type: ignore\n",
    "from selenium.webdriver.common.action_chains import ActionChains # type: ignore\n",
    "from selenium.webdriver.support.ui import WebDriverWait # type: ignore\n",
    "from selenium.webdriver.support import expected_conditions as EC # type: ignore\n",
    "import pandas as pd # type: ignore\n",
    "from datetime import datetime\n",
    "import os\n",
    "import time\n",
    "\n",
    "# Setup Selenium with ChromeDriver\n",
    "options = Options()\n",
    "options.add_argument(\"--headless\")  # Run headlessly, without opening a window\n",
    "options.add_argument(\"--disable-gpu\")\n",
    "options.add_argument(\"--no-sandbox\")\n",
    "service = Service(r'C:\\Users\\komal\\Downloads\\chromedriver.exe')  "
   ]
  },
  {
   "cell_type": "code",
   "execution_count": 3,
   "metadata": {},
   "outputs": [],
   "source": [
    "# Initialize the WebDriver\n",
    "# This line initializes a Chrome WebDriver instance, \n",
    "# which is used to automate interactions with the Chrome browser. \n",
    "# service and options are arguments that configure the WebDriver's \n",
    "# behavior, such as setting the path to the ChromeDriver executable \n",
    "# and specifying browser options.\n",
    "driver = webdriver.Chrome(service=service, options=options)\n",
    "\n",
    "# URL of the Amazon reviews page\n",
    "def scrapreviews(url):\n",
    "    driver.get(url)\n",
    "\n",
    "    # Allow time for the page to load\n",
    "    time.sleep(3)\n",
    "\n",
    "    # Scroll to load more reviews (optional, depends on how many reviews are visible)\n",
    "    driver.execute_script(\"window.scrollTo(0, document.body.scrollHeight);\")\n",
    "    time.sleep(3)\n",
    "\n",
    "    # Scrape review data\n",
    "    flag = 0\n",
    "    reviews = []\n",
    "    #Finds all elements on the page that match the XPath //div[@data-hook='review'], \n",
    "    #which targets review blocks containing individual reviews.\n",
    "    review_blocks = driver.find_elements(By.XPATH, \"//div[@data-hook='review']\")\n",
    "    #Iterates over each review block. Sets the flag to 1 to indicate that at least one review has \n",
    "    #been processed. Initializes an empty dictionary (review) to store data for the current review.\n",
    "    for review_block in review_blocks:\n",
    "        flag = 1\n",
    "        review = {}\n",
    "        review['Website'] = url\n",
    "        review['Brand'] = \"Life Extension\"\n",
    "        review['Dose'] = \"1capsule\"\n",
    "        review['Mg'] = \"125\"\n",
    "        review['Form'] = \"Capsule\"\n",
    "        try:\n",
    "            review['Title'] = review_block.find_element(By.XPATH, \".//a[@data-hook='review-title']\").text.strip()\n",
    "            rating_element = review_block.find_element(By.XPATH, \".//i[@data-hook='review-star-rating']/span[@class='a-icon-alt']\")\n",
    "            review['Rating'] = rating_element.get_attribute(\"innerHTML\").strip()\n",
    "            review['Rating'] = review['Rating'].split(' ',1)[0]\n",
    "            review['Date'] = review_block.find_element(By.XPATH, \".//span[@data-hook='review-date']\").text.strip()\n",
    "            review['Date'] = review['Date'].split('on ', 1)[-1]\n",
    "            month = review['Date'].split(' ', 1)[0]\n",
    "            year = review['Date'].split(', ', 1)[-1] \n",
    "            review['Date'] = month + \" \" +year\n",
    "            date_obj = datetime.strptime(review['Date'], \"%B %Y\")\n",
    "            review['Date'] = date_obj.strftime(\"%m-%Y\")\n",
    "            review['Comment'] = review_block.find_element(By.XPATH, \".//span[@data-hook='review-body']\").text.strip()\n",
    "        except Exception as e:\n",
    "            print(f\"Error extracting review: {e}\")\n",
    "            continue\n",
    "        reviews.append(review)\n",
    "    if flag == 1:\n",
    "        # Convert the data into a DataFrame\n",
    "        df = pd.DataFrame(reviews)\n",
    "        file_path = \"test.csv\"\n",
    "        # Check if the file already exists\n",
    "        if os.path.exists(file_path):\n",
    "            # Append data to the existing file without writing the header\n",
    "            df.to_csv(file_path, mode='a', index=False, header=False)\n",
    "        else:\n",
    "            # Write data to a new file with the header\n",
    "            df.to_csv(file_path, mode='w', index=False, header=True)\n",
    "        print(\"Scraping completed. Reviews saved to test.csv\")\n",
    "\n",
    "    # Close the WebDriver\n",
    "    driver.quit()"
   ]
  },
  {
   "cell_type": "code",
   "execution_count": 4,
   "metadata": {},
   "outputs": [
    {
     "name": "stdout",
     "output_type": "stream",
     "text": [
      "First in\n"
     ]
    }
   ],
   "source": [
    "#scrapreviews(\"https://www.amazon.com/Futurebiotics-Ashwagandha-Strength-Support-BioPerine/product-reviews/B0CQMHSPDV/ref=cm_cr_dp_d_show_all_btm?ie=UTF8&reviewerType=all_reviews\")"
   ]
  }
 ],
 "metadata": {
  "kernelspec": {
   "display_name": "Python 3",
   "language": "python",
   "name": "python3"
  },
  "language_info": {
   "codemirror_mode": {
    "name": "ipython",
    "version": 3
   },
   "file_extension": ".py",
   "mimetype": "text/x-python",
   "name": "python",
   "nbconvert_exporter": "python",
   "pygments_lexer": "ipython3",
   "version": "3.11.9"
  }
 },
 "nbformat": 4,
 "nbformat_minor": 2
}
