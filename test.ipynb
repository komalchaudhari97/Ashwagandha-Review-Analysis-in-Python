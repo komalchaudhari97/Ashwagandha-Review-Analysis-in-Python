{
 "cells": [
  {
   "cell_type": "code",
   "execution_count": 1,
   "metadata": {},
   "outputs": [
    {
     "name": "stdout",
     "output_type": "stream",
     "text": [
      "Requirement already satisfied: selenium in c:\\users\\komal\\appdata\\local\\packages\\pythonsoftwarefoundation.python.3.11_qbz5n2kfra8p0\\localcache\\local-packages\\python311\\site-packages (4.24.0)\n",
      "Requirement already satisfied: urllib3<3,>=1.26 in c:\\users\\komal\\appdata\\local\\packages\\pythonsoftwarefoundation.python.3.11_qbz5n2kfra8p0\\localcache\\local-packages\\python311\\site-packages (from urllib3[socks]<3,>=1.26->selenium) (2.2.2)\n",
      "Requirement already satisfied: trio~=0.17 in c:\\users\\komal\\appdata\\local\\packages\\pythonsoftwarefoundation.python.3.11_qbz5n2kfra8p0\\localcache\\local-packages\\python311\\site-packages (from selenium) (0.26.2)\n",
      "Requirement already satisfied: trio-websocket~=0.9 in c:\\users\\komal\\appdata\\local\\packages\\pythonsoftwarefoundation.python.3.11_qbz5n2kfra8p0\\localcache\\local-packages\\python311\\site-packages (from selenium) (0.11.1)\n",
      "Requirement already satisfied: certifi>=2021.10.8 in c:\\users\\komal\\appdata\\local\\packages\\pythonsoftwarefoundation.python.3.11_qbz5n2kfra8p0\\localcache\\local-packages\\python311\\site-packages (from selenium) (2024.8.30)\n",
      "Requirement already satisfied: typing_extensions~=4.9 in c:\\users\\komal\\appdata\\local\\packages\\pythonsoftwarefoundation.python.3.11_qbz5n2kfra8p0\\localcache\\local-packages\\python311\\site-packages (from selenium) (4.12.2)\n",
      "Requirement already satisfied: websocket-client~=1.8 in c:\\users\\komal\\appdata\\local\\packages\\pythonsoftwarefoundation.python.3.11_qbz5n2kfra8p0\\localcache\\local-packages\\python311\\site-packages (from selenium) (1.8.0)\n",
      "Requirement already satisfied: attrs>=23.2.0 in c:\\users\\komal\\appdata\\local\\packages\\pythonsoftwarefoundation.python.3.11_qbz5n2kfra8p0\\localcache\\local-packages\\python311\\site-packages (from trio~=0.17->selenium) (24.2.0)\n",
      "Requirement already satisfied: sortedcontainers in c:\\users\\komal\\appdata\\local\\packages\\pythonsoftwarefoundation.python.3.11_qbz5n2kfra8p0\\localcache\\local-packages\\python311\\site-packages (from trio~=0.17->selenium) (2.4.0)\n",
      "Requirement already satisfied: idna in c:\\users\\komal\\appdata\\local\\packages\\pythonsoftwarefoundation.python.3.11_qbz5n2kfra8p0\\localcache\\local-packages\\python311\\site-packages (from trio~=0.17->selenium) (3.8)\n",
      "Requirement already satisfied: outcome in c:\\users\\komal\\appdata\\local\\packages\\pythonsoftwarefoundation.python.3.11_qbz5n2kfra8p0\\localcache\\local-packages\\python311\\site-packages (from trio~=0.17->selenium) (1.3.0.post0)\n",
      "Requirement already satisfied: sniffio>=1.3.0 in c:\\users\\komal\\appdata\\local\\packages\\pythonsoftwarefoundation.python.3.11_qbz5n2kfra8p0\\localcache\\local-packages\\python311\\site-packages (from trio~=0.17->selenium) (1.3.1)\n",
      "Requirement already satisfied: cffi>=1.14 in c:\\users\\komal\\appdata\\local\\packages\\pythonsoftwarefoundation.python.3.11_qbz5n2kfra8p0\\localcache\\local-packages\\python311\\site-packages (from trio~=0.17->selenium) (1.17.1)\n",
      "Requirement already satisfied: wsproto>=0.14 in c:\\users\\komal\\appdata\\local\\packages\\pythonsoftwarefoundation.python.3.11_qbz5n2kfra8p0\\localcache\\local-packages\\python311\\site-packages (from trio-websocket~=0.9->selenium) (1.2.0)\n",
      "Requirement already satisfied: pysocks!=1.5.7,<2.0,>=1.5.6 in c:\\users\\komal\\appdata\\local\\packages\\pythonsoftwarefoundation.python.3.11_qbz5n2kfra8p0\\localcache\\local-packages\\python311\\site-packages (from urllib3[socks]<3,>=1.26->selenium) (1.7.1)\n",
      "Requirement already satisfied: pycparser in c:\\users\\komal\\appdata\\local\\packages\\pythonsoftwarefoundation.python.3.11_qbz5n2kfra8p0\\localcache\\local-packages\\python311\\site-packages (from cffi>=1.14->trio~=0.17->selenium) (2.22)\n",
      "Requirement already satisfied: h11<1,>=0.9.0 in c:\\users\\komal\\appdata\\local\\packages\\pythonsoftwarefoundation.python.3.11_qbz5n2kfra8p0\\localcache\\local-packages\\python311\\site-packages (from wsproto>=0.14->trio-websocket~=0.9->selenium) (0.14.0)\n",
      "Note: you may need to restart the kernel to use updated packages.\n"
     ]
    },
    {
     "name": "stderr",
     "output_type": "stream",
     "text": [
      "\n",
      "[notice] A new release of pip is available: 24.0 -> 24.2\n",
      "[notice] To update, run: C:\\Users\\komal\\AppData\\Local\\Microsoft\\WindowsApps\\PythonSoftwareFoundation.Python.3.11_qbz5n2kfra8p0\\python.exe -m pip install --upgrade pip\n"
     ]
    },
    {
     "name": "stdout",
     "output_type": "stream",
     "text": [
      "Requirement already satisfied: pandas in c:\\users\\komal\\appdata\\local\\packages\\pythonsoftwarefoundation.python.3.11_qbz5n2kfra8p0\\localcache\\local-packages\\python311\\site-packages (2.2.2)\n",
      "Requirement already satisfied: numpy>=1.23.2 in c:\\users\\komal\\appdata\\local\\packages\\pythonsoftwarefoundation.python.3.11_qbz5n2kfra8p0\\localcache\\local-packages\\python311\\site-packages (from pandas) (2.1.1)\n",
      "Requirement already satisfied: python-dateutil>=2.8.2 in c:\\users\\komal\\appdata\\local\\packages\\pythonsoftwarefoundation.python.3.11_qbz5n2kfra8p0\\localcache\\local-packages\\python311\\site-packages (from pandas) (2.9.0.post0)\n",
      "Requirement already satisfied: pytz>=2020.1 in c:\\users\\komal\\appdata\\local\\packages\\pythonsoftwarefoundation.python.3.11_qbz5n2kfra8p0\\localcache\\local-packages\\python311\\site-packages (from pandas) (2024.1)\n",
      "Requirement already satisfied: tzdata>=2022.7 in c:\\users\\komal\\appdata\\local\\packages\\pythonsoftwarefoundation.python.3.11_qbz5n2kfra8p0\\localcache\\local-packages\\python311\\site-packages (from pandas) (2024.1)\n",
      "Requirement already satisfied: six>=1.5 in c:\\users\\komal\\appdata\\local\\packages\\pythonsoftwarefoundation.python.3.11_qbz5n2kfra8p0\\localcache\\local-packages\\python311\\site-packages (from python-dateutil>=2.8.2->pandas) (1.16.0)\n",
      "Note: you may need to restart the kernel to use updated packages.\n"
     ]
    },
    {
     "name": "stderr",
     "output_type": "stream",
     "text": [
      "\n",
      "[notice] A new release of pip is available: 24.0 -> 24.2\n",
      "[notice] To update, run: C:\\Users\\komal\\AppData\\Local\\Microsoft\\WindowsApps\\PythonSoftwareFoundation.Python.3.11_qbz5n2kfra8p0\\python.exe -m pip install --upgrade pip\n"
     ]
    }
   ],
   "source": [
    "# Install Selenium and Pandas\n",
    "%pip install selenium\n",
    "%pip install pandas"
   ]
  },
  {
   "cell_type": "code",
   "execution_count": 2,
   "metadata": {},
   "outputs": [],
   "source": [
    "#Import Selenium and Pandas \n",
    "import selenium\n",
    "import pandas as pd"
   ]
  },
  {
   "cell_type": "code",
   "execution_count": 3,
   "metadata": {},
   "outputs": [],
   "source": [
    "#Initialize chromedriver service\n",
    "from selenium import webdriver # type: ignore\n",
    "from selenium.webdriver.common.by import By # type: ignore\n",
    "from selenium.webdriver.chrome.service import Service # type: ignore\n",
    "from selenium.webdriver.chrome.options import Options # type: ignore\n",
    "from selenium.webdriver.common.action_chains import ActionChains # type: ignore\n",
    "from selenium.webdriver.support.ui import WebDriverWait # type: ignore\n",
    "from selenium.webdriver.support import expected_conditions as EC # type: ignore\n",
    "import pandas as pd # type: ignore\n",
    "from datetime import datetime\n",
    "import os\n",
    "import time\n",
    "\n",
    "# Setup Selenium with ChromeDriver\n",
    "options = Options()\n",
    "options.add_argument(\"--headless\")  # Run headlessly, without opening a window\n",
    "options.add_argument(\"--disable-gpu\")\n",
    "options.add_argument(\"--no-sandbox\")\n",
    "options.add_argument(\"start-maximized\")  # Open browser in full-screen mode\n",
    "options.add_argument(\"disable-infobars\")  # Disable infobars\n",
    "options.add_argument(\"--disable-extensions\")  # Disable extensions\n",
    "service = Service(r'C:\\Users\\komal\\Downloads\\chromedriver.exe')  "
   ]
  },
  {
   "cell_type": "code",
   "execution_count": 4,
   "metadata": {},
   "outputs": [],
   "source": [
    "#Scrap Reviews and save to CSV\n",
    "driver = webdriver.Chrome(service=service, options=options)\n",
    "def scrapreviews(url):\n",
    "    print(\"URL:\",url)\n",
    "    driver.get(url)\n",
    "    time.sleep(3)\n",
    "    driver.execute_script(\"window.scrollTo(0, document.body.scrollHeight);\")\n",
    "    time.sleep(3)\n",
    "    flag = 0\n",
    "    reviews = []\n",
    "    review_blocks = driver.find_elements(By.XPATH, \"//div[@data-hook='review']\")\n",
    "    print(review_blocks)\n",
    "    for review_block in review_blocks:\n",
    "        flag = 1\n",
    "        review = {}\n",
    "        review['Website'] = url\n",
    "        review['Brand'] = \"Force Factor\"\n",
    "        review['Dose'] = \"4tablets\"\n",
    "        review['Mg'] = \"1400\"\n",
    "        review['Form'] = \"Tablet\"\n",
    "        try:\n",
    "            review['Title'] = review_block.find_element(By.XPATH, \".//a[@data-hook='review-title']\").text.strip()\n",
    "            rating_element = review_block.find_element(By.XPATH, \".//i[@data-hook='review-star-rating']/span[@class='a-icon-alt']\")\n",
    "            review['Rating'] = rating_element.get_attribute(\"innerHTML\").strip()\n",
    "            review['Rating'] = review['Rating'].split(' ',1)[0]\n",
    "            review['Date'] = review_block.find_element(By.XPATH, \".//span[@data-hook='review-date']\").text.strip()\n",
    "            review['Date'] = review['Date'].split('on ', 1)[-1]\n",
    "            month = review['Date'].split(' ', 1)[0]\n",
    "            year = review['Date'].split(', ', 1)[-1] \n",
    "            review['Date'] = month + \" \" +year\n",
    "            date_obj = datetime.strptime(review['Date'], \"%B %Y\")\n",
    "            review['Date'] = date_obj.strftime(\"%m-%Y\")\n",
    "            review['Comment'] = review_block.find_element(By.XPATH, \".//span[@data-hook='review-body']\").text.strip()\n",
    "        except Exception as e:\n",
    "            print(f\"Error extracting review: {e}\")\n",
    "            continue\n",
    "        reviews.append(review)\n",
    "    if flag == 1:\n",
    "        df = pd.DataFrame(reviews)\n",
    "        file_path = \"test.csv\"\n",
    "        if os.path.exists(file_path):\n",
    "            df.to_csv(file_path, mode='a', index=False, header=False)\n",
    "        else:\n",
    "            df.to_csv(file_path, mode='w', index=False, header=True)\n",
    "        print(\"Scraping completed. Reviews saved to test.csv\")\n",
    "    driver.quit()"
   ]
  },
  {
   "cell_type": "code",
   "execution_count": 5,
   "metadata": {},
   "outputs": [
    {
     "name": "stdout",
     "output_type": "stream",
     "text": [
      "URL: http://api.scraperapi.com?api_key=e8e009737fd0524f821f4e1ee4ee99dd&url=https://www.amazon.com/Metabolism-Ashwaganda-Ashwagandha-Force-Factor/product-reviews/B09Y2B6YSW/ref=cm_cr_arp_d_viewopt_sr?ie=UTF8&reviewerType=all_reviews&filterByStar=one_star&pageNumber=1\n",
      "[<selenium.webdriver.remote.webelement.WebElement (session=\"ad820792921f426cb4854b1cb25181a3\", element=\"f.71667CDCFD0E20EF3DB45F60C74B34A9.d.EEF7B16C683253E6BA25B8DC13188626.e.39\")>, <selenium.webdriver.remote.webelement.WebElement (session=\"ad820792921f426cb4854b1cb25181a3\", element=\"f.71667CDCFD0E20EF3DB45F60C74B34A9.d.EEF7B16C683253E6BA25B8DC13188626.e.40\")>, <selenium.webdriver.remote.webelement.WebElement (session=\"ad820792921f426cb4854b1cb25181a3\", element=\"f.71667CDCFD0E20EF3DB45F60C74B34A9.d.EEF7B16C683253E6BA25B8DC13188626.e.41\")>, <selenium.webdriver.remote.webelement.WebElement (session=\"ad820792921f426cb4854b1cb25181a3\", element=\"f.71667CDCFD0E20EF3DB45F60C74B34A9.d.EEF7B16C683253E6BA25B8DC13188626.e.42\")>, <selenium.webdriver.remote.webelement.WebElement (session=\"ad820792921f426cb4854b1cb25181a3\", element=\"f.71667CDCFD0E20EF3DB45F60C74B34A9.d.EEF7B16C683253E6BA25B8DC13188626.e.43\")>, <selenium.webdriver.remote.webelement.WebElement (session=\"ad820792921f426cb4854b1cb25181a3\", element=\"f.71667CDCFD0E20EF3DB45F60C74B34A9.d.EEF7B16C683253E6BA25B8DC13188626.e.44\")>, <selenium.webdriver.remote.webelement.WebElement (session=\"ad820792921f426cb4854b1cb25181a3\", element=\"f.71667CDCFD0E20EF3DB45F60C74B34A9.d.EEF7B16C683253E6BA25B8DC13188626.e.45\")>]\n",
      "Scraping completed. Reviews saved to test.csv\n"
     ]
    }
   ],
   "source": [
    "api_key = 'e8e009737fd0524f821f4e1ee4ee99dd'\n",
    "url = 'https://www.amazon.com/Metabolism-Ashwaganda-Ashwagandha-Force-Factor/product-reviews/B09Y2B6YSW/ref=cm_cr_arp_d_viewopt_sr?ie=UTF8&reviewerType=all_reviews&filterByStar=one_star&pageNumber=1'\n",
    "scraper_url = f'http://api.scraperapi.com?api_key={api_key}&url={url}'\n",
    "scrapreviews(scraper_url)"
   ]
  }
 ],
 "metadata": {
  "kernelspec": {
   "display_name": "Python 3",
   "language": "python",
   "name": "python3"
  },
  "language_info": {
   "codemirror_mode": {
    "name": "ipython",
    "version": 3
   },
   "file_extension": ".py",
   "mimetype": "text/x-python",
   "name": "python",
   "nbconvert_exporter": "python",
   "pygments_lexer": "ipython3",
   "version": "3.11.9"
  }
 },
 "nbformat": 4,
 "nbformat_minor": 2
}
