{
 "cells": [
  {
   "cell_type": "markdown",
   "metadata": {},
   "source": [
    "**%pip install scikit-learn**: This line installs the `scikit-learn` library, a popular Python package used for machine learning, if it’s not already installed. \n",
    "**from sklearn.decomposition import NMF**: This line imports the **NMF** (Non-Negative Matrix Factorization) algorithm from the `scikit-learn` library. NMF is commonly used in topic modeling to discover underlying patterns in text data by breaking it down into simpler parts.\n",
    "  **from sklearn.feature_extraction.text import TfidfVectorizer**: This line imports the **TfidfVectorizer** from `scikit-learn`, which is used to convert text data into a matrix of numerical values. It uses the **TF-IDF** (Term Frequency-Inverse Document Frequency) technique to give importance to words that are frequent in a document but not common across all documents."
   ]
  },
  {
   "cell_type": "code",
   "execution_count": 1,
   "metadata": {},
   "outputs": [
    {
     "name": "stdout",
     "output_type": "stream",
     "text": [
      "Requirement already satisfied: scikit-learn in c:\\users\\komal\\appdata\\local\\packages\\pythonsoftwarefoundation.python.3.11_qbz5n2kfra8p0\\localcache\\local-packages\\python311\\site-packages (1.5.2)Note: you may need to restart the kernel to use updated packages.\n",
      "\n",
      "Requirement already satisfied: numpy>=1.19.5 in c:\\users\\komal\\appdata\\local\\packages\\pythonsoftwarefoundation.python.3.11_qbz5n2kfra8p0\\localcache\\local-packages\\python311\\site-packages (from scikit-learn) (2.1.1)\n",
      "Requirement already satisfied: scipy>=1.6.0 in c:\\users\\komal\\appdata\\local\\packages\\pythonsoftwarefoundation.python.3.11_qbz5n2kfra8p0\\localcache\\local-packages\\python311\\site-packages (from scikit-learn) (1.14.1)\n",
      "Requirement already satisfied: joblib>=1.2.0 in c:\\users\\komal\\appdata\\local\\packages\\pythonsoftwarefoundation.python.3.11_qbz5n2kfra8p0\\localcache\\local-packages\\python311\\site-packages (from scikit-learn) (1.4.2)\n",
      "Requirement already satisfied: threadpoolctl>=3.1.0 in c:\\users\\komal\\appdata\\local\\packages\\pythonsoftwarefoundation.python.3.11_qbz5n2kfra8p0\\localcache\\local-packages\\python311\\site-packages (from scikit-learn) (3.5.0)\n"
     ]
    },
    {
     "name": "stderr",
     "output_type": "stream",
     "text": [
      "\n",
      "[notice] A new release of pip is available: 24.0 -> 24.2\n",
      "[notice] To update, run: C:\\Users\\komal\\AppData\\Local\\Microsoft\\WindowsApps\\PythonSoftwareFoundation.Python.3.11_qbz5n2kfra8p0\\python.exe -m pip install --upgrade pip\n"
     ]
    }
   ],
   "source": [
    "%pip install scikit-learn\n",
    "from sklearn.decomposition import NMF\n",
    "from sklearn.feature_extraction.text import TfidfVectorizer"
   ]
  },
  {
   "cell_type": "code",
   "execution_count": 4,
   "metadata": {},
   "outputs": [
    {
     "name": "stdout",
     "output_type": "stream",
     "text": [
      "Topic 0:\n",
      "['effect', 'like', 'feel', 'day', 'taking']\n",
      "Topic 1:\n",
      "['taste', 'quality', 'price', 'product', 'good']\n",
      "Topic 2:\n",
      "['swallow', 'product', 'great', 'taste', 'work']\n"
     ]
    }
   ],
   "source": [
    "import pandas as pd\n",
    "from sklearn.feature_extraction.text import CountVectorizer # type: ignore\n",
    "from sklearn.decomposition import LatentDirichletAllocation # type: ignore\n",
    "\n",
    "# Load Excel file\n",
    "# Replace 'your_file.xlsx' with the path to your Excel file\n",
    "df = pd.read_excel('Combined_Final.xlsx')\n",
    "df['cleaned_reviews'] = df['cleaned_reviews'].fillna('')\n",
    "tfidf_vectorizer = TfidfVectorizer(max_df=0.95, min_df=2, stop_words='english')\n",
    "tfidf = tfidf_vectorizer.fit_transform(df['cleaned_reviews'])\n",
    "\n",
    "# Fit the NMF model\n",
    "nmf_model = NMF(n_components=3, random_state=42)\n",
    "nmf_topics = nmf_model.fit_transform(tfidf)\n",
    "\n",
    "# Print topics\n",
    "for index, topic in enumerate(nmf_model.components_):\n",
    "    print(f\"Topic {index}:\")\n",
    "    print([tfidf_vectorizer.get_feature_names_out()[i] for i in topic.argsort()[-5:]])"
   ]
  }
 ],
 "metadata": {
  "kernelspec": {
   "display_name": "Python 3",
   "language": "python",
   "name": "python3"
  },
  "language_info": {
   "codemirror_mode": {
    "name": "ipython",
    "version": 3
   },
   "file_extension": ".py",
   "mimetype": "text/x-python",
   "name": "python",
   "nbconvert_exporter": "python",
   "pygments_lexer": "ipython3",
   "version": "3.11.9"
  }
 },
 "nbformat": 4,
 "nbformat_minor": 2
}
